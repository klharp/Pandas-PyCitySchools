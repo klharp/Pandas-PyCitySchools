{
 "cells": [
  {
   "cell_type": "code",
   "execution_count": 1,
   "metadata": {},
   "outputs": [],
   "source": [
    "# Dependencies and Setup\n",
    "import pandas as pd\n",
    "#import numpy as np"
   ]
  },
  {
   "cell_type": "code",
   "execution_count": 2,
   "metadata": {},
   "outputs": [],
   "source": [
    "# File to Load\n",
    "school_data_to_load = \"Resources/schools_complete.csv\"\n",
    "student_data_to_load = \"Resources/students_complete.csv\""
   ]
  },
  {
   "cell_type": "code",
   "execution_count": 3,
   "metadata": {},
   "outputs": [],
   "source": [
    "# Read School and Student Data File and store into Pandas DataFrames\n",
    "school_data_df = pd.read_csv(school_data_to_load)\n",
    "# school_data.head()"
   ]
  },
  {
   "cell_type": "code",
   "execution_count": 4,
   "metadata": {},
   "outputs": [],
   "source": [
    "student_data_df = pd.read_csv(student_data_to_load)\n",
    "# student_data.head()"
   ]
  },
  {
   "cell_type": "code",
   "execution_count": 5,
   "metadata": {},
   "outputs": [],
   "source": [
    "# Combine the data into a single dataset (provided in starter file).  \n",
    "school_data_complete_df = pd.merge(student_data_df, school_data_df, how=\"left\", on=[\"school_name\", \"school_name\"])\n",
    "#school_data_complete_df"
   ]
  },
  {
   "cell_type": "code",
   "execution_count": 6,
   "metadata": {},
   "outputs": [],
   "source": [
    "# Rename columns of combined df\n",
    "school_data_complete_df = school_data_complete_df.rename(columns={\"Student ID\" : \"Student ID\",\n",
    "                                                          \"student_name\" : \"Student Name\",\n",
    "                                                          \"gender\" : \"Student Gender\",\n",
    "                                                          \"grade\" : \"Student Grade\",\n",
    "                                                          \"school_name\" : \"School Name\",\n",
    "                                                          \"reading_score\" : \"Student Reading Score\",\n",
    "                                                          \"math_score\" : \"Student Math Score\",\n",
    "                                                          \"School ID\" : \"School ID\",\n",
    "                                                          \"type\" : \"School Type\",\n",
    "                                                          \"size\" : \"School Size\",\n",
    "                                                          \"budget\" : \"School Budget\"})\n",
    "#school_data_complete_df"
   ]
  },
  {
   "cell_type": "code",
   "execution_count": 7,
   "metadata": {
    "scrolled": true
   },
   "outputs": [],
   "source": [
    "# Rearrange columns\n",
    "school_data_complete_df = school_data_complete_df[[\"Student ID\", \n",
    "                                                   \"Student Name\", \n",
    "                                                   \"Student Gender\", \n",
    "                                                   \"Student Grade\", \n",
    "                                                   \"Student Reading Score\", \n",
    "                                                   \"Student Math Score\", \n",
    "                                                   \"School Name\", \n",
    "                                                   \"School ID\", \n",
    "                                                   \"School Type\", \n",
    "                                                   \"School Size\", \n",
    "                                                   \"School Budget\"]]\n",
    "#school_data_complete_df"
   ]
  },
  {
   "cell_type": "markdown",
   "metadata": {},
   "source": [
    "## District Summary"
   ]
  },
  {
   "cell_type": "code",
   "execution_count": 8,
   "metadata": {},
   "outputs": [],
   "source": [
    "# Calculate the total number of schools\n",
    "schoolcount = school_data_complete_df[\"School Name\"].nunique()\n",
    "# schoolcount"
   ]
  },
  {
   "cell_type": "code",
   "execution_count": 9,
   "metadata": {},
   "outputs": [],
   "source": [
    "# Calculate the total number of students\n",
    "studentcount = school_data_complete_df[\"Student ID\"].count()\n",
    "# studentcount"
   ]
  },
  {
   "cell_type": "code",
   "execution_count": 10,
   "metadata": {},
   "outputs": [],
   "source": [
    "# Calculate the total budget (make sure to get unique because the budget repeats itself per student in same school)\n",
    "\n",
    "totalbudget = school_data_complete_df[\"School Budget\"].unique()\n",
    "# totalbudget.sum()"
   ]
  },
  {
   "cell_type": "code",
   "execution_count": 11,
   "metadata": {},
   "outputs": [],
   "source": [
    "# Calculate the average math score\n",
    "mathaverage = school_data_complete_df[\"Student Math Score\"].mean()\n",
    "# mathaverage"
   ]
  },
  {
   "cell_type": "code",
   "execution_count": 12,
   "metadata": {},
   "outputs": [],
   "source": [
    "# Calculate the average reading score\n",
    "readaverage = school_data_complete_df[\"Student Reading Score\"].mean()\n",
    "# readaverage"
   ]
  },
  {
   "cell_type": "code",
   "execution_count": 13,
   "metadata": {},
   "outputs": [],
   "source": [
    "# Calculate percent of students with a math score of 70 or greater \n",
    "# https://stackoverflow.com/questions/52097943/count-and-calculate-percentage-of-each-column-by-threshold-in-python\n",
    "mathpass = school_data_complete_df[\"Student Math Score\"].ge(70).mean()*100\n",
    "#mathpass"
   ]
  },
  {
   "cell_type": "code",
   "execution_count": 14,
   "metadata": {},
   "outputs": [],
   "source": [
    "# Calculate percent of students with a reading score of 70 or greater\n",
    "readpass = school_data_complete_df[\"Student Reading Score\"].ge(70).mean()*100\n",
    "# readpass"
   ]
  },
  {
   "cell_type": "code",
   "execution_count": 15,
   "metadata": {},
   "outputs": [],
   "source": [
    "# Calculate percent of students who passed both reading and math\n",
    "mathreadpass_df = school_data_complete_df[(school_data_complete_df['Student Math Score'] >= 70) & (school_data_complete_df['Student Reading Score'] >= 70)]\n",
    "\n",
    "mathreadpass = (mathreadpass_df[\"Student ID\"].count()/studentcount) * 100\n",
    "# mathreadpass"
   ]
  },
  {
   "cell_type": "code",
   "execution_count": 16,
   "metadata": {},
   "outputs": [],
   "source": [
    "# Create summary of district data\n",
    "district_summary_df = pd.DataFrame({\"Total Schools\" : [schoolcount],\n",
    "                                   \"Total Students\" : studentcount,\n",
    "                                   \"Total Budget\" : totalbudget.sum(),\n",
    "                                   \"Average Math Score\" : mathaverage,\n",
    "                                  \"Average Reading Score\" : readaverage,\n",
    "                                   \"% Passing Math\" : mathpass,\n",
    "                                   \"% Passing Reading\" : readpass,\n",
    "                                    \"% Overall Passing\" : mathreadpass})\n",
    "# district_summary_df"
   ]
  },
  {
   "cell_type": "code",
   "execution_count": 17,
   "metadata": {},
   "outputs": [
    {
     "data": {
      "text/html": [
       "<div>\n",
       "<style scoped>\n",
       "    .dataframe tbody tr th:only-of-type {\n",
       "        vertical-align: middle;\n",
       "    }\n",
       "\n",
       "    .dataframe tbody tr th {\n",
       "        vertical-align: top;\n",
       "    }\n",
       "\n",
       "    .dataframe thead th {\n",
       "        text-align: right;\n",
       "    }\n",
       "</style>\n",
       "<table border=\"1\" class=\"dataframe\">\n",
       "  <thead>\n",
       "    <tr style=\"text-align: right;\">\n",
       "      <th></th>\n",
       "      <th>Total Schools</th>\n",
       "      <th>Total Students</th>\n",
       "      <th>Total Budget</th>\n",
       "      <th>Average Math Score</th>\n",
       "      <th>Average Reading Score</th>\n",
       "      <th>% Passing Math</th>\n",
       "      <th>% Passing Reading</th>\n",
       "      <th>% Overall Passing</th>\n",
       "    </tr>\n",
       "  </thead>\n",
       "  <tbody>\n",
       "    <tr>\n",
       "      <th>0</th>\n",
       "      <td>15</td>\n",
       "      <td>39,170</td>\n",
       "      <td>$24,649,428</td>\n",
       "      <td>78.99</td>\n",
       "      <td>81.88</td>\n",
       "      <td>74.98%</td>\n",
       "      <td>85.81%</td>\n",
       "      <td>65.17%</td>\n",
       "    </tr>\n",
       "  </tbody>\n",
       "</table>\n",
       "</div>"
      ],
      "text/plain": [
       "   Total Schools Total Students Total Budget Average Math Score  \\\n",
       "0             15         39,170  $24,649,428              78.99   \n",
       "\n",
       "  Average Reading Score % Passing Math % Passing Reading % Overall Passing  \n",
       "0                 81.88         74.98%            85.81%            65.17%  "
      ]
     },
     "execution_count": 17,
     "metadata": {},
     "output_type": "execute_result"
    }
   ],
   "source": [
    "# Summary table formatting using map\n",
    "district_summary_df[\"Total Students\"] = district_summary_df[\"Total Students\"].map(\"{:,}\".format)\n",
    "district_summary_df[\"Total Budget\"] = district_summary_df[\"Total Budget\"].map(\"${:,}\".format)\n",
    "district_summary_df[\"Average Math Score\"] = district_summary_df[\"Average Math Score\"].map(\"{:.2f}\".format)\n",
    "district_summary_df[\"Average Reading Score\"] = district_summary_df[\"Average Reading Score\"].map(\"{:.2f}\".format)\n",
    "district_summary_df[\"% Passing Math\"] = district_summary_df[\"% Passing Math\"].map(\"{:.2f}%\".format)\n",
    "district_summary_df[\"% Passing Reading\"] = district_summary_df[\"% Passing Reading\"].map(\"{:.2f}%\".format)\n",
    "district_summary_df[\"% Overall Passing\"] = district_summary_df[\"% Overall Passing\"].map(\"{:.2f}%\".format)\n",
    "\n",
    "district_summary_df"
   ]
  },
  {
   "cell_type": "markdown",
   "metadata": {},
   "source": [
    "## School Summary"
   ]
  },
  {
   "cell_type": "code",
   "execution_count": 18,
   "metadata": {
    "scrolled": true
   },
   "outputs": [],
   "source": [
    "# Add Per Student Budget to the complete data table\n",
    "perstudentbudget = school_data_complete_df[\"School Budget\"] / school_data_complete_df[\"School Size\"]\n",
    "\n",
    "school_data_complete_df[\"Per Student Budget\"] = perstudentbudget\n",
    "#school_data_complete_df.dtypes"
   ]
  },
  {
   "cell_type": "code",
   "execution_count": 19,
   "metadata": {},
   "outputs": [],
   "source": [
    "# Add Students passing math and reading. I could not get this to work as with the district data...something to do with grouping?\n",
    "\n",
    "school_data_complete_df[\"% Passing Math\"] = school_data_complete_df[\"Student Math Score\"] >= 70\n",
    "school_data_complete_df[\"% Passing Reading\"] = school_data_complete_df[\"Student Reading Score\"] >= 70\n",
    "school_data_complete_df[\"% Overall Passing\"] = school_data_complete_df[\"% Passing Math\"] & school_data_complete_df[\"% Passing Reading\"]"
   ]
  },
  {
   "cell_type": "code",
   "execution_count": 20,
   "metadata": {
    "scrolled": true
   },
   "outputs": [],
   "source": [
    "# Modify dataframe to use just the columns wanted\n",
    "school_data_complete2_df = school_data_complete_df.loc[:, [\"School ID\", \n",
    "                                                           \"School Name\",\n",
    "                                                           \"School Type\",\n",
    "                                                           \"School Size\",\n",
    "                                                           \"School Budget\",\n",
    "                                                           \"Per Student Budget\",\n",
    "                                                           \"Student ID\",\n",
    "                                                           \"Student Name\", \n",
    "                                                           \"Student Gender\", \n",
    "                                                           \"Student Grade\", \n",
    "                                                           \"Student Reading Score\",\n",
    "                                                           \"Student Math Score\",\n",
    "                                                           \"% Passing Reading\",\n",
    "                                                           \"% Passing Math\",\n",
    "                                                           \"% Overall Passing\"\n",
    "                                                          ]]\n",
    "# school_data_complete2_df\n"
   ]
  },
  {
   "cell_type": "code",
   "execution_count": 21,
   "metadata": {
    "scrolled": true
   },
   "outputs": [],
   "source": [
    "# Group the data by School Name\n",
    "grouped_school_data_df = school_data_complete2_df.groupby([\"School Name\"])\n",
    "#grouped_school_data_df.mean()\n"
   ]
  },
  {
   "cell_type": "code",
   "execution_count": 22,
   "metadata": {},
   "outputs": [],
   "source": [
    "# Find the school types per school\n",
    "schooltype_s = grouped_school_data_df[\"School Type\"].unique()\n",
    "\n",
    "# To extract the string from the list\n",
    "schooltype_s = schooltype_s.str[0]"
   ]
  },
  {
   "cell_type": "code",
   "execution_count": 23,
   "metadata": {},
   "outputs": [],
   "source": [
    "# Find the total number of students per school\n",
    "studentcount_s = grouped_school_data_df[\"Student ID\"].count()\n",
    "# studentcount_s"
   ]
  },
  {
   "cell_type": "code",
   "execution_count": 24,
   "metadata": {},
   "outputs": [],
   "source": [
    "# Calculate the total budget per school (make sure to get unique because the budget repeats itself per student in same school)\n",
    "totalbudget_s = grouped_school_data_df[\"School Budget\"].unique()\n",
    "#totalbudget_s"
   ]
  },
  {
   "cell_type": "code",
   "execution_count": 25,
   "metadata": {},
   "outputs": [],
   "source": [
    "# Calculate the total budget per school\n",
    "perstudentbudget_s = grouped_school_data_df[\"Per Student Budget\"].unique()\n",
    "#perstudentbudget_s\n",
    "\n",
    "# To extract the string from the list\n",
    "perstudentbudget_s = perstudentbudget_s.str[0]"
   ]
  },
  {
   "cell_type": "code",
   "execution_count": 26,
   "metadata": {},
   "outputs": [],
   "source": [
    "# Calculate the average math score per school\n",
    "mathaverage_s = grouped_school_data_df[\"Student Math Score\"].mean()\n",
    "#mathaverage_s"
   ]
  },
  {
   "cell_type": "code",
   "execution_count": 27,
   "metadata": {},
   "outputs": [],
   "source": [
    "# Calculate the average reading score per school\n",
    "readaverage_s = grouped_school_data_df[\"Student Reading Score\"].mean()\n",
    "#readaverage_s"
   ]
  },
  {
   "cell_type": "code",
   "execution_count": 28,
   "metadata": {},
   "outputs": [],
   "source": [
    "mathpass_s = grouped_school_data_df[\"% Passing Math\"].mean()*100"
   ]
  },
  {
   "cell_type": "code",
   "execution_count": 29,
   "metadata": {},
   "outputs": [],
   "source": [
    "readpass_s = grouped_school_data_df[\"% Passing Reading\"].mean() *100"
   ]
  },
  {
   "cell_type": "code",
   "execution_count": 30,
   "metadata": {},
   "outputs": [],
   "source": [
    "mathreadpass_s = grouped_school_data_df[\"% Overall Passing\"].mean() *100"
   ]
  },
  {
   "cell_type": "code",
   "execution_count": 31,
   "metadata": {
    "scrolled": false
   },
   "outputs": [],
   "source": [
    "# Create summary of school data\n",
    "school_data_summary_df = pd.DataFrame({\"School Type\" : schooltype_s,\n",
    "                                       \"Total Students\" : studentcount_s,\n",
    "                                       \"Total Budget\" : totalbudget_s,\n",
    "                                       \"Per Student Budget\" : perstudentbudget_s,\n",
    "                                       \"Average Math Score\" : mathaverage_s,\n",
    "                                       \"Average Reading Score\" : readaverage_s,\n",
    "                                       \"% Passing Math\" : mathpass_s, \n",
    "                                       \"% Passing Reading\" : readpass_s,\n",
    "                                      \"% Overall Passing\" : mathreadpass_s\n",
    "                                           })\n",
    "#school_data_summary_df.dtypes"
   ]
  },
  {
   "cell_type": "code",
   "execution_count": 32,
   "metadata": {},
   "outputs": [],
   "source": [
    "# Change the data types\n",
    "school_data_summary_df[\"Total Budget\"] = school_data_summary_df[\"Total Budget\"].astype(float)\n",
    "school_data_summary_df[\"Per Student Budget\"] = school_data_summary_df[\"Per Student Budget\"].astype(float)\n",
    "#school_data_summary_df"
   ]
  },
  {
   "cell_type": "code",
   "execution_count": 33,
   "metadata": {},
   "outputs": [
    {
     "data": {
      "text/html": [
       "<div>\n",
       "<style scoped>\n",
       "    .dataframe tbody tr th:only-of-type {\n",
       "        vertical-align: middle;\n",
       "    }\n",
       "\n",
       "    .dataframe tbody tr th {\n",
       "        vertical-align: top;\n",
       "    }\n",
       "\n",
       "    .dataframe thead th {\n",
       "        text-align: right;\n",
       "    }\n",
       "</style>\n",
       "<table border=\"1\" class=\"dataframe\">\n",
       "  <thead>\n",
       "    <tr style=\"text-align: right;\">\n",
       "      <th></th>\n",
       "      <th>School Type</th>\n",
       "      <th>Total Students</th>\n",
       "      <th>Total Budget</th>\n",
       "      <th>Per Student Budget</th>\n",
       "      <th>Average Math Score</th>\n",
       "      <th>Average Reading Score</th>\n",
       "      <th>% Passing Math</th>\n",
       "      <th>% Passing Reading</th>\n",
       "      <th>% Overall Passing</th>\n",
       "    </tr>\n",
       "    <tr>\n",
       "      <th>School Name</th>\n",
       "      <th></th>\n",
       "      <th></th>\n",
       "      <th></th>\n",
       "      <th></th>\n",
       "      <th></th>\n",
       "      <th></th>\n",
       "      <th></th>\n",
       "      <th></th>\n",
       "      <th></th>\n",
       "    </tr>\n",
       "  </thead>\n",
       "  <tbody>\n",
       "    <tr>\n",
       "      <th>Bailey High School</th>\n",
       "      <td>District</td>\n",
       "      <td>4,976</td>\n",
       "      <td>$3,124,928</td>\n",
       "      <td>$628</td>\n",
       "      <td>77.05</td>\n",
       "      <td>81.03</td>\n",
       "      <td>66.68%</td>\n",
       "      <td>81.93%</td>\n",
       "      <td>54.64%</td>\n",
       "    </tr>\n",
       "    <tr>\n",
       "      <th>Cabrera High School</th>\n",
       "      <td>Charter</td>\n",
       "      <td>1,858</td>\n",
       "      <td>$1,081,356</td>\n",
       "      <td>$582</td>\n",
       "      <td>83.06</td>\n",
       "      <td>83.98</td>\n",
       "      <td>94.13%</td>\n",
       "      <td>97.04%</td>\n",
       "      <td>91.33%</td>\n",
       "    </tr>\n",
       "    <tr>\n",
       "      <th>Figueroa High School</th>\n",
       "      <td>District</td>\n",
       "      <td>2,949</td>\n",
       "      <td>$1,884,411</td>\n",
       "      <td>$639</td>\n",
       "      <td>76.71</td>\n",
       "      <td>81.16</td>\n",
       "      <td>65.99%</td>\n",
       "      <td>80.74%</td>\n",
       "      <td>53.20%</td>\n",
       "    </tr>\n",
       "    <tr>\n",
       "      <th>Ford High School</th>\n",
       "      <td>District</td>\n",
       "      <td>2,739</td>\n",
       "      <td>$1,763,916</td>\n",
       "      <td>$644</td>\n",
       "      <td>77.10</td>\n",
       "      <td>80.75</td>\n",
       "      <td>68.31%</td>\n",
       "      <td>79.30%</td>\n",
       "      <td>54.29%</td>\n",
       "    </tr>\n",
       "    <tr>\n",
       "      <th>Griffin High School</th>\n",
       "      <td>Charter</td>\n",
       "      <td>1,468</td>\n",
       "      <td>$917,500</td>\n",
       "      <td>$625</td>\n",
       "      <td>83.35</td>\n",
       "      <td>83.82</td>\n",
       "      <td>93.39%</td>\n",
       "      <td>97.14%</td>\n",
       "      <td>90.60%</td>\n",
       "    </tr>\n",
       "    <tr>\n",
       "      <th>Hernandez High School</th>\n",
       "      <td>District</td>\n",
       "      <td>4,635</td>\n",
       "      <td>$3,022,020</td>\n",
       "      <td>$652</td>\n",
       "      <td>77.29</td>\n",
       "      <td>80.93</td>\n",
       "      <td>66.75%</td>\n",
       "      <td>80.86%</td>\n",
       "      <td>53.53%</td>\n",
       "    </tr>\n",
       "    <tr>\n",
       "      <th>Holden High School</th>\n",
       "      <td>Charter</td>\n",
       "      <td>427</td>\n",
       "      <td>$248,087</td>\n",
       "      <td>$581</td>\n",
       "      <td>83.80</td>\n",
       "      <td>83.81</td>\n",
       "      <td>92.51%</td>\n",
       "      <td>96.25%</td>\n",
       "      <td>89.23%</td>\n",
       "    </tr>\n",
       "    <tr>\n",
       "      <th>Huang High School</th>\n",
       "      <td>District</td>\n",
       "      <td>2,917</td>\n",
       "      <td>$1,910,635</td>\n",
       "      <td>$655</td>\n",
       "      <td>76.63</td>\n",
       "      <td>81.18</td>\n",
       "      <td>65.68%</td>\n",
       "      <td>81.32%</td>\n",
       "      <td>53.51%</td>\n",
       "    </tr>\n",
       "    <tr>\n",
       "      <th>Johnson High School</th>\n",
       "      <td>District</td>\n",
       "      <td>4,761</td>\n",
       "      <td>$3,094,650</td>\n",
       "      <td>$650</td>\n",
       "      <td>77.07</td>\n",
       "      <td>80.97</td>\n",
       "      <td>66.06%</td>\n",
       "      <td>81.22%</td>\n",
       "      <td>53.54%</td>\n",
       "    </tr>\n",
       "    <tr>\n",
       "      <th>Pena High School</th>\n",
       "      <td>Charter</td>\n",
       "      <td>962</td>\n",
       "      <td>$585,858</td>\n",
       "      <td>$609</td>\n",
       "      <td>83.84</td>\n",
       "      <td>84.04</td>\n",
       "      <td>94.59%</td>\n",
       "      <td>95.95%</td>\n",
       "      <td>90.54%</td>\n",
       "    </tr>\n",
       "    <tr>\n",
       "      <th>Rodriguez High School</th>\n",
       "      <td>District</td>\n",
       "      <td>3,999</td>\n",
       "      <td>$2,547,363</td>\n",
       "      <td>$637</td>\n",
       "      <td>76.84</td>\n",
       "      <td>80.74</td>\n",
       "      <td>66.37%</td>\n",
       "      <td>80.22%</td>\n",
       "      <td>52.99%</td>\n",
       "    </tr>\n",
       "    <tr>\n",
       "      <th>Shelton High School</th>\n",
       "      <td>Charter</td>\n",
       "      <td>1,761</td>\n",
       "      <td>$1,056,600</td>\n",
       "      <td>$600</td>\n",
       "      <td>83.36</td>\n",
       "      <td>83.73</td>\n",
       "      <td>93.87%</td>\n",
       "      <td>95.85%</td>\n",
       "      <td>89.89%</td>\n",
       "    </tr>\n",
       "    <tr>\n",
       "      <th>Thomas High School</th>\n",
       "      <td>Charter</td>\n",
       "      <td>1,635</td>\n",
       "      <td>$1,043,130</td>\n",
       "      <td>$638</td>\n",
       "      <td>83.42</td>\n",
       "      <td>83.85</td>\n",
       "      <td>93.27%</td>\n",
       "      <td>97.31%</td>\n",
       "      <td>90.95%</td>\n",
       "    </tr>\n",
       "    <tr>\n",
       "      <th>Wilson High School</th>\n",
       "      <td>Charter</td>\n",
       "      <td>2,283</td>\n",
       "      <td>$1,319,574</td>\n",
       "      <td>$578</td>\n",
       "      <td>83.27</td>\n",
       "      <td>83.99</td>\n",
       "      <td>93.87%</td>\n",
       "      <td>96.54%</td>\n",
       "      <td>90.58%</td>\n",
       "    </tr>\n",
       "    <tr>\n",
       "      <th>Wright High School</th>\n",
       "      <td>Charter</td>\n",
       "      <td>1,800</td>\n",
       "      <td>$1,049,400</td>\n",
       "      <td>$583</td>\n",
       "      <td>83.68</td>\n",
       "      <td>83.95</td>\n",
       "      <td>93.33%</td>\n",
       "      <td>96.61%</td>\n",
       "      <td>90.33%</td>\n",
       "    </tr>\n",
       "  </tbody>\n",
       "</table>\n",
       "</div>"
      ],
      "text/plain": [
       "                      School Type Total Students Total Budget  \\\n",
       "School Name                                                     \n",
       "Bailey High School       District          4,976   $3,124,928   \n",
       "Cabrera High School       Charter          1,858   $1,081,356   \n",
       "Figueroa High School     District          2,949   $1,884,411   \n",
       "Ford High School         District          2,739   $1,763,916   \n",
       "Griffin High School       Charter          1,468     $917,500   \n",
       "Hernandez High School    District          4,635   $3,022,020   \n",
       "Holden High School        Charter            427     $248,087   \n",
       "Huang High School        District          2,917   $1,910,635   \n",
       "Johnson High School      District          4,761   $3,094,650   \n",
       "Pena High School          Charter            962     $585,858   \n",
       "Rodriguez High School    District          3,999   $2,547,363   \n",
       "Shelton High School       Charter          1,761   $1,056,600   \n",
       "Thomas High School        Charter          1,635   $1,043,130   \n",
       "Wilson High School        Charter          2,283   $1,319,574   \n",
       "Wright High School        Charter          1,800   $1,049,400   \n",
       "\n",
       "                      Per Student Budget Average Math Score  \\\n",
       "School Name                                                   \n",
       "Bailey High School                  $628              77.05   \n",
       "Cabrera High School                 $582              83.06   \n",
       "Figueroa High School                $639              76.71   \n",
       "Ford High School                    $644              77.10   \n",
       "Griffin High School                 $625              83.35   \n",
       "Hernandez High School               $652              77.29   \n",
       "Holden High School                  $581              83.80   \n",
       "Huang High School                   $655              76.63   \n",
       "Johnson High School                 $650              77.07   \n",
       "Pena High School                    $609              83.84   \n",
       "Rodriguez High School               $637              76.84   \n",
       "Shelton High School                 $600              83.36   \n",
       "Thomas High School                  $638              83.42   \n",
       "Wilson High School                  $578              83.27   \n",
       "Wright High School                  $583              83.68   \n",
       "\n",
       "                      Average Reading Score % Passing Math % Passing Reading  \\\n",
       "School Name                                                                    \n",
       "Bailey High School                    81.03         66.68%            81.93%   \n",
       "Cabrera High School                   83.98         94.13%            97.04%   \n",
       "Figueroa High School                  81.16         65.99%            80.74%   \n",
       "Ford High School                      80.75         68.31%            79.30%   \n",
       "Griffin High School                   83.82         93.39%            97.14%   \n",
       "Hernandez High School                 80.93         66.75%            80.86%   \n",
       "Holden High School                    83.81         92.51%            96.25%   \n",
       "Huang High School                     81.18         65.68%            81.32%   \n",
       "Johnson High School                   80.97         66.06%            81.22%   \n",
       "Pena High School                      84.04         94.59%            95.95%   \n",
       "Rodriguez High School                 80.74         66.37%            80.22%   \n",
       "Shelton High School                   83.73         93.87%            95.85%   \n",
       "Thomas High School                    83.85         93.27%            97.31%   \n",
       "Wilson High School                    83.99         93.87%            96.54%   \n",
       "Wright High School                    83.95         93.33%            96.61%   \n",
       "\n",
       "                      % Overall Passing  \n",
       "School Name                              \n",
       "Bailey High School               54.64%  \n",
       "Cabrera High School              91.33%  \n",
       "Figueroa High School             53.20%  \n",
       "Ford High School                 54.29%  \n",
       "Griffin High School              90.60%  \n",
       "Hernandez High School            53.53%  \n",
       "Holden High School               89.23%  \n",
       "Huang High School                53.51%  \n",
       "Johnson High School              53.54%  \n",
       "Pena High School                 90.54%  \n",
       "Rodriguez High School            52.99%  \n",
       "Shelton High School              89.89%  \n",
       "Thomas High School               90.95%  \n",
       "Wilson High School               90.58%  \n",
       "Wright High School               90.33%  "
      ]
     },
     "execution_count": 33,
     "metadata": {},
     "output_type": "execute_result"
    }
   ],
   "source": [
    "# Summary table formatting using map\n",
    "school_data_summary_df[\"Total Students\"] = school_data_summary_df[\"Total Students\"].map(\"{:,}\".format)\n",
    "school_data_summary_df[\"Total Budget\"] = school_data_summary_df[\"Total Budget\"].map(\"${:,.0f}\".format)\n",
    "school_data_summary_df[\"Per Student Budget\"] = school_data_summary_df[\"Per Student Budget\"].map(\"${:.0f}\".format)\n",
    "school_data_summary_df[\"Average Math Score\"] = school_data_summary_df[\"Average Math Score\"].map(\"{:.2f}\".format)\n",
    "school_data_summary_df[\"Average Reading Score\"] = school_data_summary_df[\"Average Reading Score\"].map(\"{:.2f}\".format)\n",
    "school_data_summary_df[\"% Passing Math\"] = school_data_summary_df[\"% Passing Math\"].map(\"{:.2f}%\".format)\n",
    "school_data_summary_df[\"% Passing Reading\"] = school_data_summary_df[\"% Passing Reading\"].map(\"{:.2f}%\".format)\n",
    "school_data_summary_df[\"% Overall Passing\"] = school_data_summary_df[\"% Overall Passing\"].map(\"{:.2f}%\".format)\n",
    "\n",
    "\n",
    "school_data_summary_df\n"
   ]
  },
  {
   "cell_type": "markdown",
   "metadata": {},
   "source": [
    "## Top Performing Schools (By % Overall Passing)"
   ]
  },
  {
   "cell_type": "markdown",
   "metadata": {},
   "source": [
    "* Sort and display the top five performing schools by % overall passing."
   ]
  },
  {
   "cell_type": "code",
   "execution_count": null,
   "metadata": {
    "scrolled": true
   },
   "outputs": [],
   "source": []
  },
  {
   "cell_type": "markdown",
   "metadata": {},
   "source": [
    "## Bottom Performing Schools (By % Overall Passing)"
   ]
  },
  {
   "cell_type": "markdown",
   "metadata": {},
   "source": [
    "* Sort and display the five worst-performing schools by % overall passing."
   ]
  },
  {
   "cell_type": "code",
   "execution_count": null,
   "metadata": {},
   "outputs": [],
   "source": []
  },
  {
   "cell_type": "markdown",
   "metadata": {
    "collapsed": true
   },
   "source": [
    "## Math Scores by Grade"
   ]
  },
  {
   "cell_type": "markdown",
   "metadata": {},
   "source": [
    "* Create a table that lists the average Reading Score for students of each grade level (9th, 10th, 11th, 12th) at each school.\n",
    "\n",
    "  * Create a pandas series for each grade. Hint: use a conditional statement.\n",
    "  \n",
    "  * Group each series by school\n",
    "  \n",
    "  * Combine the series into a dataframe\n",
    "  \n",
    "  * Optional: give the displayed data cleaner formatting"
   ]
  },
  {
   "cell_type": "code",
   "execution_count": null,
   "metadata": {},
   "outputs": [],
   "source": []
  },
  {
   "cell_type": "markdown",
   "metadata": {},
   "source": [
    "## Reading Score by Grade "
   ]
  },
  {
   "cell_type": "markdown",
   "metadata": {},
   "source": [
    "* Perform the same operations as above for reading scores"
   ]
  },
  {
   "cell_type": "code",
   "execution_count": null,
   "metadata": {},
   "outputs": [],
   "source": []
  },
  {
   "cell_type": "markdown",
   "metadata": {},
   "source": [
    "## Scores by School Spending"
   ]
  },
  {
   "cell_type": "markdown",
   "metadata": {},
   "source": [
    "* Create a table that breaks down school performances based on average Spending Ranges (Per Student). Use 4 reasonable bins to group school spending. Include in the table each of the following:\n",
    "  * Average Math Score\n",
    "  * Average Reading Score\n",
    "  * % Passing Math\n",
    "  * % Passing Reading\n",
    "  * Overall Passing Rate (Average of the above two)"
   ]
  },
  {
   "cell_type": "code",
   "execution_count": null,
   "metadata": {},
   "outputs": [],
   "source": []
  },
  {
   "cell_type": "markdown",
   "metadata": {},
   "source": [
    "## Scores by School Size"
   ]
  },
  {
   "cell_type": "markdown",
   "metadata": {},
   "source": [
    "* Perform the same operations as above, based on school size."
   ]
  },
  {
   "cell_type": "code",
   "execution_count": null,
   "metadata": {
    "scrolled": true
   },
   "outputs": [],
   "source": []
  },
  {
   "cell_type": "markdown",
   "metadata": {},
   "source": [
    "## Scores by School Type"
   ]
  },
  {
   "cell_type": "markdown",
   "metadata": {},
   "source": [
    "* Perform the same operations as above, based on school type"
   ]
  },
  {
   "cell_type": "code",
   "execution_count": null,
   "metadata": {},
   "outputs": [],
   "source": []
  },
  {
   "cell_type": "code",
   "execution_count": null,
   "metadata": {},
   "outputs": [],
   "source": []
  },
  {
   "cell_type": "code",
   "execution_count": null,
   "metadata": {},
   "outputs": [],
   "source": []
  }
 ],
 "metadata": {
  "anaconda-cloud": {},
  "kernel_info": {
   "name": "python3"
  },
  "kernelspec": {
   "display_name": "Python 3",
   "language": "python",
   "name": "python3"
  },
  "language_info": {
   "codemirror_mode": {
    "name": "ipython",
    "version": 3
   },
   "file_extension": ".py",
   "mimetype": "text/x-python",
   "name": "python",
   "nbconvert_exporter": "python",
   "pygments_lexer": "ipython3",
   "version": "3.6.10"
  },
  "latex_envs": {
   "LaTeX_envs_menu_present": true,
   "autoclose": false,
   "autocomplete": true,
   "bibliofile": "biblio.bib",
   "cite_by": "apalike",
   "current_citInitial": 1,
   "eqLabelWithNumbers": true,
   "eqNumInitial": 1,
   "hotkeys": {
    "equation": "Ctrl-E",
    "itemize": "Ctrl-I"
   },
   "labels_anchors": false,
   "latex_user_defs": false,
   "report_style_numbering": false,
   "user_envs_cfg": false
  },
  "nteract": {
   "version": "0.8.4"
  }
 },
 "nbformat": 4,
 "nbformat_minor": 1
}
